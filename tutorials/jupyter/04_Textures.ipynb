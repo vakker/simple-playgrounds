{
 "cells": [
  {
   "cell_type": "markdown",
   "metadata": {
    "collapsed": true
   },
   "source": [
    "# Textures\n",
    "\n",
    "Scene Elements (and agents) can have different textures.\n",
    "We wil lreview them here."
   ]
  },
  {
   "cell_type": "code",
   "execution_count": null,
   "metadata": {},
   "outputs": [],
   "source": [
    "%matplotlib inline\n",
    "import matplotlib.pyplot as plt\n",
    "\n",
    "def plt_image(img):\n",
    "    plt.axis('off')\n",
    "    plt.imshow(img)\n",
    "    plt.show()"
   ]
  },
  {
   "cell_type": "code",
   "execution_count": null,
   "metadata": {},
   "outputs": [],
   "source": [
    "from simple_playgrounds.playgrounds import SingleRoom\n",
    "from simple_playgrounds import Engine\n",
    "from simple_playgrounds.utils.texture import *\n",
    "\n",
    "my_playground = SingleRoom(size=(200, 200))\n",
    "\n",
    "# we use the option replay=True to reset the environment if it terminates before time_limit.\n",
    "engine = Engine(time_limit=10000, playground= my_playground, screen=False, replay=False)\n",
    "\n",
    "plt_image(engine.generate_topdown_image(mode='plt'))"
   ]
  },
  {
   "cell_type": "markdown",
   "metadata": {},
   "source": [
    "## Color texture\n",
    "\n",
    "The most basic texture is a uniform color."
   ]
  },
  {
   "cell_type": "code",
   "execution_count": null,
   "metadata": {},
   "outputs": [],
   "source": [
    "from simple_playgrounds.playgrounds.scene_elements import Basic\n",
    "\n",
    "elem = Basic([50,50,0], physical_shape = 'square', radius = 10, texture = [123, 234, 0])\n",
    "my_playground.add_scene_element(elem)\n",
    "\n",
    "plt_image(engine.generate_topdown_image(mode='plt'))"
   ]
  },
  {
   "cell_type": "markdown",
   "metadata": {},
   "source": [
    "Note that the texture parameters can be provided as a list/tuple, a dictionary of parameters, or a class.\n",
    "If a class is provided, it must be instanciated by giving the radius of the element as an additional parameter."
   ]
  },
  {
   "cell_type": "code",
   "execution_count": null,
   "metadata": {},
   "outputs": [],
   "source": [
    "from simple_playgrounds.utils.texture import ColorTexture\n",
    "\n",
    "elem = Basic([100,50,0], physical_shape = 'circle', radius = 10, texture = ColorTexture(color=(222, 0, 0), radius=10))\n",
    "my_playground.add_scene_element(elem)\n",
    "\n",
    "elem = Basic([150,50,0], physical_shape = 'pentagon', radius = 10, texture = {'texture_type': 'color', 'color':(0, 0, 222), 'radius':10})\n",
    "my_playground.add_scene_element(elem)\n",
    "\n",
    "plt_image(engine.generate_topdown_image(mode='plt'))"
   ]
  },
  {
   "cell_type": "markdown",
   "metadata": {},
   "source": [
    "## Advanced Textures\n",
    "\n",
    "Simple playgrounds includes aready available textures:\n",
    "- ColorTexture: Unique color across the object\n",
    "- UniformTexture: Each pixel has a random color.\n",
    "- RandomTilesTexture: Texture composed of squared tiles\n",
    "- UniqueRandomTilesTexture: Generate N different RandomTilesTexture\n",
    "- PolarStripesTexture: Stripes centered\n",
    "- CenteredRandomTilesTexture: Random stripes centered\n",
    "- ListCenteredRandomTiles: Stipes come from a list\n"
   ]
  },
  {
   "cell_type": "code",
   "execution_count": null,
   "metadata": {},
   "outputs": [],
   "source": [
    "text_uniform = UniformTexture(color_min=(100, 100, 0), color_max=(200, 250, 0), radius = 10)\n",
    "elem = Basic([50,100,0], physical_shape = 'pentagon', radius = 10, texture = text_uniform)\n",
    "my_playground.add_scene_element(elem)\n",
    "\n",
    "text_tiles = RandomTilesTexture(color_min=(150, 100, 0), color_max=(200, 250, 0), size_tiles=5, radius = 40)\n",
    "elem = Basic([100,100,0], physical_shape = 'rectangle', width_length=(20, 30), texture = text_tiles)\n",
    "my_playground.add_scene_element(elem)\n",
    "\n",
    "plt_image(engine.generate_topdown_image(mode='plt'))"
   ]
  },
  {
   "cell_type": "code",
   "execution_count": null,
   "metadata": {},
   "outputs": [],
   "source": [
    "text_polar = PolarStripesTexture(color_1=(200, 100, 50), color_2= (100, 100, 150), radius=20, n_stripes=5)\n",
    "elem = Basic([50,150,0], physical_shape = 'pentagon', radius = 20, texture = text_polar)\n",
    "my_playground.add_scene_element(elem)\n",
    "\n",
    "text_random_tiles_centered = CenteredRandomTilesTexture(color_min=(100, 0, 100), color_max=(200, 0, 200), radius=20, size_tiles=10)\n",
    "elem = Basic([100,150,0], physical_shape = 'hexagon', radius = 20, texture = text_random_tiles_centered)\n",
    "my_playground.add_scene_element(elem)\n",
    "\n",
    "plt_image(engine.generate_topdown_image(mode='plt'))"
   ]
  },
  {
   "cell_type": "code",
   "execution_count": null,
   "metadata": {},
   "outputs": [],
   "source": [
    "engine.terminate()"
   ]
  },
  {
   "cell_type": "code",
   "execution_count": null,
   "metadata": {},
   "outputs": [],
   "source": []
  }
 ],
 "metadata": {
  "kernelspec": {
   "display_name": "Python 3",
   "language": "python",
   "name": "python3"
  },
  "language_info": {
   "codemirror_mode": {
    "name": "ipython",
    "version": 3
   },
   "file_extension": ".py",
   "mimetype": "text/x-python",
   "name": "python",
   "nbconvert_exporter": "python",
   "pygments_lexer": "ipython3",
   "version": "3.8.0"
  }
 },
 "nbformat": 4,
 "nbformat_minor": 1
}
