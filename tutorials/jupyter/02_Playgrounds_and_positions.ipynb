{
 "cells": [
  {
   "cell_type": "markdown",
   "metadata": {
    "collapsed": true
   },
   "source": [
    "# Buiding playgrounds\n",
    "\n",
    "In this tutorial, we will see how to build playgrounds with differennt rooms, and how to place objects randomly in the playgrounds.\n",
    "\n",
    "First, we build an empty playground:\n"
   ]
  },
  {
   "cell_type": "code",
   "execution_count": null,
   "metadata": {},
   "outputs": [],
   "source": [
    "from simple_playgrounds.playgrounds import SingleRoom\n",
    "from simple_playgrounds import Engine\n",
    "\n",
    "%matplotlib inline\n",
    "import matplotlib.pyplot as plt\n",
    "\n",
    "def plt_image(img):\n",
    "    plt.axis('off')\n",
    "    plt.imshow(img)\n",
    "    plt.show()\n",
    "\n",
    "my_playground = SingleRoom(size=(300, 300))\n",
    "\n",
    "# we use the option screen=True to use a keyboard controlled agent later on.\n",
    "engine = Engine(time_limit=10000, playground= my_playground, screen=False)\n",
    "\n",
    "plt_image(engine.generate_topdown_image(mode='plt'))"
   ]
  },
  {
   "cell_type": "markdown",
   "metadata": {},
   "source": [
    "## Placing an element at a random position in the Environment.\n",
    "\n",
    "The initial position of a scene element have to be specified.\n",
    "Instead of a position, you can define an area where the position will be sampled uniformly.\n",
    "\n",
    "In the following, we create a circular area sampler centered at (50, 50) and of radius.\n",
    "We generate 10 objects. Note that we add them without overlapping, meaning that if the playground\n",
    "can't find a suitable position, it will raise an error."
   ]
  },
  {
   "cell_type": "code",
   "execution_count": null,
   "metadata": {},
   "outputs": [],
   "source": [
    "from simple_playgrounds.playgrounds.scene_elements import Basic\n",
    "from simple_playgrounds.utils import PositionAreaSampler\n",
    "\n",
    "area = PositionAreaSampler((50, 50), area_shape='circle', radius=60)\n",
    "for i in range(10):\n",
    "    circular_object = Basic(area, physical_shape='circle', radius=5, texture = [120, 230, 0], allow_overlapping = False)\n",
    "    try:\n",
    "        my_playground.add_scene_element(circular_object)\n",
    "    except:\n",
    "        print('Failed to place object')\n",
    "\n",
    "plt_image(engine.generate_topdown_image(mode='plt'))"
   ]
  },
  {
   "cell_type": "markdown",
   "metadata": {},
   "source": [
    "## Area sampler of different shapes and sizes.\n",
    "\n",
    "Other possibe shapes are rectangle, or gaussian.\n",
    "We will allow overlapping for the following added element."
   ]
  },
  {
   "cell_type": "code",
   "execution_count": null,
   "metadata": {},
   "outputs": [],
   "source": [
    "# gaussian area\n",
    "area = PositionAreaSampler((250, 50), area_shape='gaussian', radius = 80, variance=100)\n",
    "for i in range(20):\n",
    "    circular_object = Basic(area, physical_shape='circle', radius=5, texture = [120, 0, 240])\n",
    "    my_playground.add_scene_element(circular_object)\n",
    "\n",
    "area = PositionAreaSampler((150, 50), area_shape='rectangle', width_length=(70, 40))\n",
    "for i in range(20):\n",
    "    circular_object = Basic(area, physical_shape='circle', radius=5, texture = [120, 230, 0])\n",
    "    my_playground.add_scene_element(circular_object)\n",
    "\n",
    "\n",
    "plt_image(engine.generate_topdown_image(mode='plt'))"
   ]
  },
  {
   "cell_type": "markdown",
   "metadata": {},
   "source": [
    "## Playground provide their own areas\n",
    "\n",
    "We will see in a following tutorial that playgrounds are formed of different rooms, and that each room has coordinates as a tuple.\n",
    "\n",
    "In the case of a single room, its coordinates are (0,0).\n",
    "\n",
    "Different methods are provided for easily building areas."
   ]
  },
  {
   "cell_type": "code",
   "execution_count": null,
   "metadata": {},
   "outputs": [],
   "source": [
    "center_area, size_area = my_playground.area_rooms[(0,0)]\n",
    "area_all = PositionAreaSampler(center=center_area, area_shape='rectangle', width_length=size_area)\n",
    "for i in range(20):\n",
    "    circular_object = Basic(area_all, physical_shape='circle', radius=5, texture = [250, 100, 0], allow_overlapping=False)\n",
    "    try:\n",
    "        my_playground.add_scene_element(circular_object)\n",
    "    except:\n",
    "        print('Failed to place object')\n",
    "\n",
    "plt_image(engine.generate_topdown_image(mode='plt'))"
   ]
  },
  {
   "cell_type": "markdown",
   "metadata": {},
   "source": [
    "## Quarter areas\n",
    "\n",
    "For even more convenience, playgrounds provide quarter areas of rooms."
   ]
  },
  {
   "cell_type": "code",
   "execution_count": null,
   "metadata": {},
   "outputs": [],
   "source": [
    "center_area, size_area = my_playground.get_quarter_area((0,0), 'up-left')\n",
    "area_all = PositionAreaSampler(center=center_area, area_shape='rectangle', width_length=size_area)\n",
    "for i in range(20):\n",
    "    circular_object = Basic(area_all, physical_shape='circle', radius=5, texture = [0, 100, 250], allow_overlapping=False)\n",
    "    try:\n",
    "        my_playground.add_scene_element(circular_object)\n",
    "    except:\n",
    "        print('Failed to place object')\n",
    "\n",
    "plt_image(engine.generate_topdown_image(mode='plt'))"
   ]
  },
  {
   "cell_type": "markdown",
   "metadata": {},
   "source": [
    "## Reset Playground\n",
    "\n",
    "Finally, Reseting the playground place the added elements in new random positions, sampled in their area.\n",
    "\n",
    "Note that if you placed too many objects which don't allow overlapping, reset might fail.\n",
    "You can always try to reset multiple times until it works."
   ]
  },
  {
   "cell_type": "code",
   "execution_count": null,
   "metadata": {},
   "outputs": [],
   "source": [
    "my_playground.reset()\n",
    "\n",
    "plt_image(engine.generate_topdown_image(mode='plt'))"
   ]
  },
  {
   "cell_type": "code",
   "execution_count": null,
   "metadata": {},
   "outputs": [],
   "source": [
    "engine.terminate()"
   ]
  },
  {
   "cell_type": "markdown",
   "metadata": {},
   "source": [
    "## Playground with rooms\n",
    "\n",
    "Other more advanced playgrounds are available: Linear Rooms and Connected Rooms 2D"
   ]
  },
  {
   "cell_type": "code",
   "execution_count": null,
   "metadata": {},
   "outputs": [],
   "source": [
    "from simple_playgrounds.playgrounds import LinearRooms, ConnectedRooms2D\n",
    "from simple_playgrounds import Engine\n",
    "from simple_playgrounds.playgrounds.scene_elements import OpenCloseSwitch\n",
    "\n",
    "my_playground = LinearRooms(size=(400, 200), n_rooms=2, doorstep_type='middle')\n",
    "engine = Engine(time_limit=10000, playground= my_playground, screen=False)\n",
    "\n",
    "plt_image(engine.generate_topdown_image(mode='plt'))"
   ]
  },
  {
   "cell_type": "markdown",
   "metadata": {},
   "source": [
    "Once a playground is created, you can access the different doorsteps, and easily add a door and a switch.\n"
   ]
  },
  {
   "cell_type": "code",
   "execution_count": null,
   "metadata": {},
   "outputs": [],
   "source": [
    "# Generate a door for a doorstep\n",
    "door = my_playground.add_door(((0,0), (1,0)))\n",
    "\n",
    "position_switch = my_playground.random_position_on_wall(area_coordinates=(0,0), wall_location='right', size_object=30)\n",
    "switch = OpenCloseSwitch(initial_position=position_switch, door=door, radius = 30)\n",
    "my_playground.add_scene_element(switch)\n",
    "\n",
    "plt_image(engine.generate_topdown_image(mode='plt'))"
   ]
  },
  {
   "cell_type": "markdown",
   "metadata": {},
   "source": [
    "## Opening a door with an agent\n",
    "\n",
    "We add an agent, that you can control with a keyboard.\n",
    "Go to the switch and activate it with A."
   ]
  },
  {
   "cell_type": "code",
   "execution_count": null,
   "metadata": {},
   "outputs": [],
   "source": [
    "from simple_playgrounds.agents.controllers import Keyboard\n",
    "from simple_playgrounds.agents.agents import BaseInteractiveAgent\n",
    "\n",
    "my_agent = BaseInteractiveAgent( (50,50,0), controller=Keyboard())\n",
    "my_playground.add_agent(my_agent)\n",
    "\n",
    "engine = Engine(time_limit=10000, playground= my_playground, screen=True)\n",
    "\n",
    "plt_image(engine.generate_topdown_image(mode='plt'))\n",
    "\n",
    "engine.run(with_screen=True)\n",
    "engine.terminate()"
   ]
  },
  {
   "cell_type": "markdown",
   "metadata": {},
   "source": [
    "## Complex Mazes\n",
    "\n",
    "We can build playgrounds with any number of rooms.\n",
    "We can also set the type of doorsteps, their size, and select from a list of wall themes."
   ]
  },
  {
   "cell_type": "code",
   "execution_count": null,
   "metadata": {},
   "outputs": [],
   "source": [
    "engine.terminate()\n",
    "my_playground = ConnectedRooms2D(size=(400, 400), n_rooms=(3,3), doorstep_type='random')\n",
    "engine = Engine(time_limit=10000, playground= my_playground, screen=False)\n",
    "\n",
    "plt_image(engine.generate_topdown_image(mode='plt'))"
   ]
  },
  {
   "cell_type": "markdown",
   "metadata": {},
   "source": [
    "Let say that we want an object to always appear in the middle-left room."
   ]
  },
  {
   "cell_type": "code",
   "execution_count": null,
   "metadata": {},
   "outputs": [],
   "source": [
    "position_center, shape = my_playground.area_rooms[(2,1)]\n",
    "area = PositionAreaSampler(center=position_center, area_shape='rectangle', width_length=shape )\n",
    "circular_object = Basic(area, physical_shape='circle', radius=5, texture = [120, 230, 0])\n",
    "my_playground.add_scene_element(circular_object)\n",
    "\n",
    "plt_image(engine.generate_topdown_image(mode='plt'))"
   ]
  },
  {
   "cell_type": "code",
   "execution_count": null,
   "metadata": {},
   "outputs": [],
   "source": [
    "my_playground.reset()\n",
    "\n",
    "plt_image(engine.generate_topdown_image(mode='plt'))"
   ]
  },
  {
   "cell_type": "code",
   "execution_count": null,
   "metadata": {},
   "outputs": [],
   "source": [
    "engine.terminate()"
   ]
  },
  {
   "cell_type": "markdown",
   "metadata": {},
   "source": [
    "Different wall types are available: classic, light, dark, colorful.\n",
    "Nothing prevents you from creating your own using wall_texture."
   ]
  },
  {
   "cell_type": "code",
   "execution_count": null,
   "metadata": {},
   "outputs": [],
   "source": [
    "my_playground = SingleRoom(size=(300, 300), wall_type='light')\n",
    "engine = Engine(time_limit=10000, playground= my_playground, screen=False)\n",
    "\n",
    "plt_image(engine.generate_topdown_image(mode='plt'))"
   ]
  },
  {
   "cell_type": "code",
   "execution_count": null,
   "metadata": {},
   "outputs": [],
   "source": [
    "engine.terminate()\n",
    "my_playground = SingleRoom(size=(300, 300), wall_type='dark')\n",
    "engine = Engine(time_limit=10000, playground= my_playground, screen=False)\n",
    "\n",
    "plt_image(engine.generate_topdown_image(mode='plt'))"
   ]
  },
  {
   "cell_type": "code",
   "execution_count": null,
   "metadata": {},
   "outputs": [],
   "source": [
    "engine.terminate()\n",
    "my_playground = SingleRoom(size=(300, 300), wall_type='colorful')\n",
    "engine = Engine(time_limit=10000, playground= my_playground, screen=False)\n",
    "\n",
    "plt_image(engine.generate_topdown_image(mode='plt'))"
   ]
  },
  {
   "cell_type": "code",
   "execution_count": null,
   "metadata": {},
   "outputs": [],
   "source": [
    "engine.terminate()\n",
    "my_playground = ConnectedRooms2D(size=(600, 600), n_rooms=(4,4), wall_type='colorful')\n",
    "engine = Engine(time_limit=10000, playground= my_playground, screen=False)\n",
    "\n",
    "plt_image(engine.generate_topdown_image(mode='plt'))"
   ]
  },
  {
   "cell_type": "code",
   "execution_count": null,
   "metadata": {},
   "outputs": [],
   "source": [
    "engine.terminate()"
   ]
  },
  {
   "cell_type": "markdown",
   "metadata": {},
   "source": [
    "## Modifying texture of the walls\n",
    "\n",
    "Finally, we can change texture parameters on the go, by providing additional arguments."
   ]
  },
  {
   "cell_type": "code",
   "execution_count": null,
   "metadata": {},
   "outputs": [],
   "source": [
    "from simple_playgrounds.utils.texture import UniqueRandomTilesTexture\n",
    "\n",
    "\n",
    "custom_tecture=UniqueRandomTilesTexture(color_min=(0, 100, 0), color_max=(250, 100, 0), n_colors=4, radius = 100)\n",
    "\n",
    "my_playground = ConnectedRooms2D(size=(600, 600), n_rooms=(3,3),  wall_texture=custom_tecture)\n",
    "engine = Engine(time_limit=10000, playground= my_playground, screen=False)\n",
    "\n",
    "plt_image(engine.generate_topdown_image(mode='plt'))"
   ]
  },
  {
   "cell_type": "code",
   "execution_count": null,
   "metadata": {},
   "outputs": [],
   "source": []
  }
 ],
 "metadata": {
  "kernelspec": {
   "display_name": "Python 3",
   "language": "python",
   "name": "python3"
  },
  "language_info": {
   "codemirror_mode": {
    "name": "ipython",
    "version": 3
   },
   "file_extension": ".py",
   "mimetype": "text/x-python",
   "name": "python",
   "nbconvert_exporter": "python",
   "pygments_lexer": "ipython3",
   "version": "3.8.0"
  }
 },
 "nbformat": 4,
 "nbformat_minor": 1
}
