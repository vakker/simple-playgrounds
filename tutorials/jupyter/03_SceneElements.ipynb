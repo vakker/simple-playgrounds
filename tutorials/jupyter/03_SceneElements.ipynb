{
 "cells": [
  {
   "cell_type": "markdown",
   "metadata": {
    "collapsed": true
   },
   "source": [
    "# Scene Elements\n",
    "\n",
    "We already saw in the previous tutorials how to add scene elements.\n",
    "In this tutorial, we will introduce different types of scene elements."
   ]
  },
  {
   "cell_type": "code",
   "execution_count": null,
   "metadata": {},
   "outputs": [],
   "source": [
    "from simple_playgrounds.playgrounds import SingleRoom\n",
    "from simple_playgrounds import Engine\n",
    "\n",
    "%matplotlib inline\n",
    "import matplotlib.pyplot as plt\n",
    "\n",
    "def plt_image(img):\n",
    "    plt.axis('off')\n",
    "    plt.imshow(img)\n",
    "    plt.show()\n",
    "    \n",
    "my_playground = SingleRoom(size=(100, 100))\n",
    "\n",
    "engine = Engine(time_limit=1000, playground= my_playground, screen=False, replay=True)\n",
    "\n",
    "plt_image(engine.generate_topdown_image(mode='plt'))"
   ]
  },
  {
   "cell_type": "markdown",
   "metadata": {},
   "source": [
    "## Contact Entities:\n",
    "\n",
    "Different entities react upon contact with an agent. Here are examples for Candy and VisibleEndGoal"
   ]
  },
  {
   "cell_type": "code",
   "execution_count": null,
   "metadata": {},
   "outputs": [],
   "source": [
    "from simple_playgrounds.playgrounds.scene_elements import VisibleEndGoal, Candy\n",
    "from simple_playgrounds.utils import PositionAreaSampler\n",
    "\n",
    "endgoal = VisibleEndGoal([20,20,0])\n",
    "my_playground.add_scene_element(endgoal)\n",
    "\n",
    "candy = Candy([70,70,0])\n",
    "my_playground.add_scene_element(candy)\n",
    "\n",
    "plt_image(engine.generate_topdown_image(mode='plt'))"
   ]
  },
  {
   "cell_type": "markdown",
   "metadata": {},
   "source": [
    "Now, we can add an agent and interact with the elements.\n",
    "If the agent touches the VisibleEndGoal, as we set the engine to restart when the playground reaches termination, the playgrond is reset."
   ]
  },
  {
   "cell_type": "code",
   "execution_count": null,
   "metadata": {},
   "outputs": [],
   "source": [
    "from simple_playgrounds.agents.controllers import Keyboard, Random\n",
    "from simple_playgrounds.agents.agents import BaseAgent\n",
    "\n",
    "\n",
    "my_agent = BaseAgent(controller=Keyboard())\n",
    "my_playground.add_agent(my_agent)\n",
    "engine = Engine(time_limit=1000, playground=my_playground, screen=True, replay=True)\n",
    "\n",
    "engine.run(with_screen=True, print_rewards = True)\n",
    "engine.terminate()"
   ]
  },
  {
   "cell_type": "markdown",
   "metadata": {},
   "source": [
    "## Interactive Scene Elements\n",
    "\n",
    "You can now explore different test environments that implement the usual SceneElements.\n",
    "Interact with them using A for activating, E for eating, and G for grasping.\n",
    "\n",
    "Try to bring the yellow coins to the orange vending machine, or the grey key to the purple chest."
   ]
  },
  {
   "cell_type": "code",
   "execution_count": null,
   "metadata": {},
   "outputs": [],
   "source": [
    "from simple_playgrounds.agents.agents import BaseInteractiveAgent\n",
    "from simple_playgrounds.playgrounds.collection.test import Interactives\n",
    "\n",
    "\n",
    "my_agent = BaseInteractiveAgent(controller=Keyboard())\n",
    "my_playground =Interactives()\n",
    "my_playground.add_agent(my_agent)\n",
    "engine = Engine(my_playground, 10000, replay=True, screen=True)\n",
    "\n",
    "plt_image(engine.generate_topdown_image(mode='plt'))\n",
    "\n",
    "engine.run(with_screen=True, print_rewards = True)\n",
    "engine.terminate()"
   ]
  },
  {
   "cell_type": "markdown",
   "metadata": {},
   "source": [
    "## Doors and switches\n",
    "\n",
    "Simple-playgrounds provides doors and switches to create complex mazes."
   ]
  },
  {
   "cell_type": "code",
   "execution_count": null,
   "metadata": {},
   "outputs": [],
   "source": [
    "# Doors and switches Scene Elements\n",
    "\n",
    "from simple_playgrounds.playgrounds.collection.test import Doors\n",
    "\n",
    "\n",
    "my_agent = BaseInteractiveAgent(controller=Keyboard())\n",
    "my_playground = Doors()\n",
    "my_playground.add_agent(my_agent)\n",
    "engine = Engine(my_playground, 10000, replay=True, screen=True)\n",
    "\n",
    "plt_image(engine.generate_topdown_image(mode='plt'))\n",
    "\n",
    "\n",
    "engine.run(with_screen=True, print_rewards = True)\n",
    "engine.terminate()"
   ]
  },
  {
   "cell_type": "markdown",
   "metadata": {},
   "source": [
    "## Teleports\n",
    "\n",
    "Simple-playgrounds provides teleports that can move the agent to its target's centre."
   ]
  },
  {
   "cell_type": "code",
   "execution_count": null,
   "metadata": {},
   "outputs": [],
   "source": [
    "from simple_playgrounds.playgrounds.collection.test import Teleports\n",
    "\n",
    "\n",
    "my_agent = BaseInteractiveAgent(controller=Keyboard())\n",
    "my_playground = Teleports()\n",
    "my_playground.add_agent(my_agent)\n",
    "engine = Engine(my_playground, 10000, replay=True, screen=True)\n",
    "\n",
    "plt_image(engine.generate_topdown_image(mode='plt'))\n",
    "\n",
    "engine.run(with_screen=True, print_rewards = True)\n",
    "engine.terminate()"
   ]
  },
  {
   "cell_type": "markdown",
   "metadata": {},
   "source": [
    "## Other test playgrounds\n",
    "\n",
    "You can test different entities by loading existing test playgrounds.\n",
    "Pick other test playgrounds already available: Contacts, Basics, Graspables,Zones, Interactives, Conditioning, Doors, Proximity, Fields"
   ]
  },
  {
   "cell_type": "code",
   "execution_count": null,
   "metadata": {},
   "outputs": [],
   "source": [
    "from simple_playgrounds.playgrounds.collection.test import Contacts\n",
    "\n",
    "area_start = PositionAreaSampler((150,150), 'rectangle', width_length=[100, 100])\n",
    "my_agent = BaseInteractiveAgent(area_start, controller=Keyboard(), allow_overlapping=False)\n",
    "my_playground = Contacts()\n",
    "my_playground.add_agent(my_agent)\n",
    "engine = Engine(my_playground, 1000, replay=True, screen=True)\n",
    "\n",
    "plt_image(engine.generate_topdown_image(mode='plt'))\n",
    "\n",
    "\n",
    "engine.run(with_screen=True, print_rewards = True)\n",
    "engine.terminate()"
   ]
  },
  {
   "cell_type": "code",
   "execution_count": null,
   "metadata": {},
   "outputs": [],
   "source": []
  }
 ],
 "metadata": {
  "kernelspec": {
   "display_name": "Python 3",
   "language": "python",
   "name": "python3"
  },
  "language_info": {
   "codemirror_mode": {
    "name": "ipython",
    "version": 3
   },
   "file_extension": ".py",
   "mimetype": "text/x-python",
   "name": "python",
   "nbconvert_exporter": "python",
   "pygments_lexer": "ipython3",
   "version": "3.8.0"
  }
 },
 "nbformat": 4,
 "nbformat_minor": 1
}
