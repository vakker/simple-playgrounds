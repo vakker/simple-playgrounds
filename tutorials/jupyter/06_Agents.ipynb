{
 "cells": [
  {
   "cell_type": "markdown",
   "metadata": {
    "collapsed": true
   },
   "source": [
    "# Agents\n",
    "\n",
    "Agents are composed of body parts and sensors.\n",
    "We will use an already implemented agent composed of a Base and a Head.\n",
    "\n",
    "We are going to attach sensors to this agent."
   ]
  },
  {
   "cell_type": "code",
   "execution_count": null,
   "metadata": {},
   "outputs": [],
   "source": [
    "from simple_playgrounds.playgrounds import SingleRoom\n",
    "from simple_playgrounds import Engine\n",
    "from simple_playgrounds.agents.controllers import Keyboard\n",
    "from simple_playgrounds.agents.agents import BaseAgent, HeadAgent\n",
    "\n",
    "# to display the sensors\n",
    "import cv2\n",
    "\n",
    "%matplotlib inline\n",
    "import matplotlib.pyplot as plt\n",
    "\n",
    "def plt_image(img):\n",
    "    plt.axis('off')\n",
    "    plt.imshow(img)\n",
    "    plt.show()\n",
    "    "
   ]
  },
  {
   "cell_type": "code",
   "execution_count": null,
   "metadata": {},
   "outputs": [],
   "source": [
    "import math\n",
    "my_playground = SingleRoom(size=(200, 200))\n",
    "my_agent = HeadAgent( controller=Keyboard())\n",
    "\n",
    "my_playground.add_agent(my_agent)\n",
    "\n",
    "# we use the option screen=True to use a keyboard controlled agent later on.\n",
    "engine = Engine(time_limit=1000000, playground= my_playground, screen=False)\n",
    "\n",
    "plt_image(engine.generate_topdown_image(mode='plt'))"
   ]
  },
  {
   "cell_type": "markdown",
   "metadata": {},
   "source": [
    "## Adding scene elements \n",
    "\n",
    "Now lets add some scene element to the playground, that the agent will be able to perceive."
   ]
  },
  {
   "cell_type": "code",
   "execution_count": null,
   "metadata": {},
   "outputs": [],
   "source": [
    "from simple_playgrounds.playgrounds.scene_elements import Basic\n",
    "\n",
    "circular_object = Basic((170, 30, 0.5),default_config_key='pentagon', graspable=True, mass = 10)\n",
    "my_playground.add_scene_element(circular_object)\n",
    "\n",
    "circular_object = Basic((170, 160, -0.5), physical_shape='circle', radius=10, texture = [120, 0, 230])\n",
    "my_playground.add_scene_element(circular_object)\n",
    "\n",
    "plt_image(engine.generate_topdown_image(mode='plt'))"
   ]
  },
  {
   "cell_type": "markdown",
   "metadata": {},
   "source": [
    "## Adding sensors to the agent \n",
    "\n",
    "Ok Great! Now we will add 2 rgb sensors: one attached to the head, one attached to the body.\n",
    "\n",
    "Note that the properties of the sensors can be changed with keyword arguments.\n",
    "\n",
    "Move the agent with keyboard arrows, and its head with `n` and `m` and terminate with `q`.\n",
    "\n",
    "The animated window will appear outside of the notebook."
   ]
  },
  {
   "cell_type": "code",
   "execution_count": null,
   "metadata": {},
   "outputs": [],
   "source": [
    "from simple_playgrounds.agents.sensors import RgbCamera\n",
    "\n",
    "my_agent.add_sensor(RgbCamera(my_agent.head, invisible_elements=my_agent.parts, fov=180, range=150))\n",
    "# my_agent.add_sensor(RgbCamera(my_agent.base_platform, invisible_elements=my_agent.parts, fov=270, range=150))\n",
    "\n",
    "plt_image(engine.generate_topdown_image(mode='plt'))\n",
    "\n",
    "engine = Engine(time_limit=1000000, playground= my_playground, screen=True)\n",
    "\n",
    "engine.update_observations()\n",
    "img_sensor = engine.generate_sensor_image(my_agent, mode='plt')\n",
    "plt_image(img_sensor)\n",
    "# \n",
    "while engine.game_on:\n",
    "\n",
    "    engine.display_full_scene()\n",
    "\n",
    "    actions = {}\n",
    "    for agent in engine.agents:\n",
    "        actions[agent.name] = agent.controller.generate_commands()\n",
    "\n",
    "    reset, terminate = engine.step(actions)\n",
    "    engine.update_observations()\n",
    "\n",
    "    cv2.imshow('sensor', engine.generate_sensor_image(my_agent))\n",
    "    cv2.waitKey(20)\n",
    "    \n",
    "    if reset:\n",
    "        engine.reset()\n",
    "    if terminate:\n",
    "        engine.terminate()\n",
    "\n",
    "engine.terminate()\n",
    "cv2.destroyAllWindows()"
   ]
  },
  {
   "cell_type": "markdown",
   "metadata": {},
   "source": [
    "## Lets add all sensors and move around\n",
    "\n",
    "We load a test playground."
   ]
  },
  {
   "cell_type": "code",
   "execution_count": null,
   "metadata": {},
   "outputs": [],
   "source": [
    "from simple_playgrounds.playgrounds.collection.test import Basics\n",
    "from simple_playgrounds.agents.sensors import RgbCamera, TopdownSensor, Touch, Lidar\n",
    "\n",
    "my_playground = Basics()\n",
    "my_agent = BaseAgent(initial_position=(100, 20, 1.15), controller=Keyboard())\n",
    "my_playground.add_agent(my_agent)\n",
    "\n",
    "# we use the option screen=True to use a keyboard controlled agent later on.\n",
    "engine = Engine(time_limit=1000000, playground= my_playground, screen=True)\n",
    "\n",
    "my_agent.add_sensor(RgbCamera(my_agent.base_platform))\n",
    "my_agent.add_sensor(Lidar(my_agent.base_platform))\n",
    "my_agent.add_sensor(Touch(my_agent.base_platform))\n",
    "my_agent.add_sensor(TopdownSensor(my_agent.base_platform))\n",
    "\n",
    "plt_image(engine.generate_topdown_image(mode='plt'))\n",
    "\n",
    "engine.update_observations()\n",
    "img_sensor = engine.generate_sensor_image(my_agent, mode='plt')\n",
    "\n",
    "plt.figure(figsize=(20,20))\n",
    "plt_image(img_sensor)\n",
    "\n",
    "\n",
    "while engine.game_on:\n",
    "    \n",
    "    engine.display_full_scene()\n",
    "\n",
    "    actions = {}\n",
    "    for agent in engine.agents:\n",
    "        actions[agent.name] = agent.controller.generate_commands()\n",
    "\n",
    "    reset, terminate = engine.step(actions)\n",
    "    engine.update_observations()\n",
    "    \n",
    "    cv2.imshow('sensor', engine.generate_sensor_image(my_agent))\n",
    "    cv2.waitKey(20)\n",
    "    \n",
    "    if reset:\n",
    "        engine.reset()\n",
    "    if terminate:\n",
    "        engine.terminate()\n",
    "    \n",
    "engine.terminate()\n",
    "cv2.destroyAllWindows()\n"
   ]
  },
  {
   "cell_type": "markdown",
   "metadata": {},
   "source": [
    "## Funny addition\n",
    "\n",
    "Sensors are quite generic, so we could in principle add one to a scene element.\n",
    "It would act as a camera, that the agent has access to.\n",
    "\n",
    "Here, we add a sensor to an object which is graspable."
   ]
  },
  {
   "cell_type": "code",
   "execution_count": null,
   "metadata": {},
   "outputs": [],
   "source": [
    "from simple_playgrounds.agents.agents import BaseInteractiveAgent\n",
    "\n",
    "my_playground = Basics()\n",
    "my_agent = BaseInteractiveAgent(initial_position=(100, 50, 1.15), controller=Keyboard())\n",
    "my_playground.add_agent(my_agent)\n",
    "\n",
    "# we use the option screen=True to use a keyboard controlled agent later on.\n",
    "engine = Engine(time_limit=1000000, playground= my_playground, screen=True)\n",
    "\n",
    "circular_object = Basic((150, 30, 1.8), physical_shape='circle', radius=10, texture = [120, 230, 0], graspable=True, mass=5)\n",
    "my_playground.add_scene_element(circular_object)\n",
    "\n",
    "camera = RgbCamera(circular_object)\n",
    "my_agent.add_sensor(camera)\n",
    "\n",
    "plt_image(engine.generate_topdown_image(mode='plt'))\n",
    "\n",
    "engine.update_observations()\n",
    "img_sensor = engine.generate_sensor_image(my_agent, mode='plt')\n",
    "plt_image(img_sensor)\n",
    "\n",
    "\n",
    "\n",
    "while engine.game_on:\n",
    "    \n",
    "    engine.display_full_scene()\n",
    "\n",
    "    actions = {}\n",
    "    for agent in engine.agents:\n",
    "        actions[agent.name] = agent.controller.generate_commands()\n",
    "\n",
    "    reset, terminate = engine.step(actions)\n",
    "    engine.update_observations()\n",
    "    \n",
    "    cv2.imshow('sensor', engine.generate_sensor_image(my_agent))\n",
    "    cv2.waitKey(20)\n",
    "    \n",
    "    if reset:\n",
    "        engine.reset()\n",
    "    if terminate:\n",
    "        engine.terminate()\n",
    "    \n",
    "engine.terminate()\n",
    "cv2.destroyAllWindows()\n"
   ]
  },
  {
   "cell_type": "markdown",
   "metadata": {},
   "source": [
    "You now see the agent from the point of view of the green object."
   ]
  },
  {
   "cell_type": "code",
   "execution_count": null,
   "metadata": {},
   "outputs": [],
   "source": []
  }
 ],
 "metadata": {
  "kernelspec": {
   "display_name": "Python 3",
   "language": "python",
   "name": "python3"
  },
  "language_info": {
   "codemirror_mode": {
    "name": "ipython",
    "version": 3
   },
   "file_extension": ".py",
   "mimetype": "text/x-python",
   "name": "python",
   "nbconvert_exporter": "python",
   "pygments_lexer": "ipython3",
   "version": "3.8.0"
  }
 },
 "nbformat": 4,
 "nbformat_minor": 1
}
